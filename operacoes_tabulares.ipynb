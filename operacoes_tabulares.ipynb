{
 "cells": [
  {
   "cell_type": "code",
   "execution_count": 3,
   "metadata": {},
   "outputs": [],
   "source": [
    "import pandas as pd"
   ]
  },
  {
   "cell_type": "code",
   "execution_count": 4,
   "metadata": {},
   "outputs": [
    {
     "name": "stdout",
     "output_type": "stream",
     "text": [
      "<class 'pandas.core.frame.DataFrame'>\n",
      "RangeIndex: 1528 entries, 0 to 1527\n",
      "Data columns (total 17 columns):\n",
      " #   Column   Non-Null Count  Dtype  \n",
      "---  ------   --------------  -----  \n",
      " 0   country  1528 non-null   object \n",
      " 1   team     1528 non-null   object \n",
      " 2   name     1528 non-null   object \n",
      " 3   pos      1528 non-null   object \n",
      " 4   age      1524 non-null   float64\n",
      " 5   cm       1444 non-null   float64\n",
      " 6   kg       1417 non-null   float64\n",
      " 7   apps     1326 non-null   object \n",
      " 8   goal     412 non-null    float64\n",
      " 9   ass      362 non-null    float64\n",
      " 10  yel      729 non-null    float64\n",
      " 11  red      95 non-null     float64\n",
      " 12  spg      1025 non-null   float64\n",
      " 13  ps       1318 non-null   float64\n",
      " 14  aw       1120 non-null   float64\n",
      " 15  mom      277 non-null    float64\n",
      " 16  rt       1326 non-null   float64\n",
      "dtypes: float64(12), object(5)\n",
      "memory usage: 203.1+ KB\n"
     ]
    }
   ],
   "source": [
    "url = \"http://leg.ufpr.br/~walmes/data/euro_football_players.txt\"\n",
    "tb = pd.read_csv(url, delimiter = \"\\t\", comment = \"#\")\n",
    "tb.info()"
   ]
  },
  {
   "cell_type": "code",
   "execution_count": null,
   "metadata": {},
   "outputs": [
    {
     "name": "stdout",
     "output_type": "stream",
     "text": [
      "False\n"
     ]
    }
   ],
   "source": [
    "# Mais de 50 jogadores tem altura igual ou superior a 195 cm\n",
    "mais_195 = tb[tb['cm'] >= 195]\n",
    "print(len(mais_195) > 50)\n"
   ]
  },
  {
   "cell_type": "code",
   "execution_count": null,
   "metadata": {},
   "outputs": [
    {
     "name": "stdout",
     "output_type": "stream",
     "text": [
      "False\n"
     ]
    }
   ],
   "source": [
    "# O jogador mais alto é pelo menos 5 cm mais alto que o segundo mais alto\n",
    "altura_ordenada = tb['cm'].sort_values(ascending=False)\n",
    "print(altura_ordenada.iloc[0] - altura_ordenada.iloc[1] >= 5)"
   ]
  },
  {
   "cell_type": "code",
   "execution_count": 8,
   "metadata": {},
   "outputs": [
    {
     "name": "stdout",
     "output_type": "stream",
     "text": [
      "False\n"
     ]
    }
   ],
   "source": [
    "# Há mais jogadores portugueses que italianos\n",
    "pais_contagem = tb['country'].value_counts()\n",
    "print(pais_contagem['Portugal'] > pais_contagem['Italy'])"
   ]
  },
  {
   "cell_type": "code",
   "execution_count": 9,
   "metadata": {},
   "outputs": [
    {
     "name": "stdout",
     "output_type": "stream",
     "text": [
      "True\n"
     ]
    }
   ],
   "source": [
    "# O artilheiro tem mais que 15 gols\n",
    "artilheiro = tb[tb['goal'] == tb['goal'].max()]\n",
    "print(artilheiro['goal'].iloc[0] > 15)"
   ]
  },
  {
   "cell_type": "code",
   "execution_count": 10,
   "metadata": {},
   "outputs": [
    {
     "name": "stdout",
     "output_type": "stream",
     "text": [
      "True\n"
     ]
    }
   ],
   "source": [
    "# O artilheiro é jogador do Juventus\n",
    "print(artilheiro['team'].iloc[0] == 'Juventus')"
   ]
  },
  {
   "cell_type": "code",
   "execution_count": 11,
   "metadata": {},
   "outputs": [
    {
     "name": "stdout",
     "output_type": "stream",
     "text": [
      "True\n"
     ]
    }
   ],
   "source": [
    "# Dos jogadores com mais de 2 cartões amarelos (yel), menos de 40 tem 1 cartão vermelho\n",
    "mais_2_amarelos = tb[tb['yel'] > 2]\n",
    "menos_40_vermelhos = mais_2_amarelos['red'].sum() < 40\n",
    "print(menos_40_vermelhos)"
   ]
  },
  {
   "cell_type": "code",
   "execution_count": 12,
   "metadata": {},
   "outputs": [
    {
     "name": "stdout",
     "output_type": "stream",
     "text": [
      "True\n"
     ]
    }
   ],
   "source": [
    "# 150 ou mais jogadores são goleiros\n",
    "goleiros = tb[tb['pos'] == 'GK']\n",
    "print(len(goleiros) >= 150)"
   ]
  },
  {
   "cell_type": "code",
   "execution_count": 13,
   "metadata": {},
   "outputs": [
    {
     "name": "stdout",
     "output_type": "stream",
     "text": [
      "True\n"
     ]
    }
   ],
   "source": [
    "# Mais de 70 jogadores foram expulsos uma vez (red, uma expulsão é um cartão vermelho)\n",
    "expulsos_uma_vez = tb[tb['red'] == 1]\n",
    "print(len(expulsos_uma_vez) > 70)"
   ]
  },
  {
   "cell_type": "code",
   "execution_count": 14,
   "metadata": {},
   "outputs": [
    {
     "name": "stdout",
     "output_type": "stream",
     "text": [
      "False\n"
     ]
    }
   ],
   "source": [
    "# Mais de 250 jogadoes tem 3 ou mais cartões amarelos\n",
    "mais_3_amarelos = tb[tb['yel'] >= 3]\n",
    "print(len(mais_3_amarelos) > 250)"
   ]
  },
  {
   "cell_type": "code",
   "execution_count": 15,
   "metadata": {},
   "outputs": [
    {
     "name": "stdout",
     "output_type": "stream",
     "text": [
      "False\n"
     ]
    }
   ],
   "source": [
    "# A quantidade de valores ausentes para altura (cm) é maior que para peso (kg)\n",
    "faltam_altura = tb['cm'].isnull().sum()\n",
    "faltam_peso = tb['kg'].isnull().sum()\n",
    "print(faltam_altura > faltam_peso)"
   ]
  },
  {
   "cell_type": "code",
   "execution_count": 16,
   "metadata": {},
   "outputs": [
    {
     "name": "stdout",
     "output_type": "stream",
     "text": [
      "False\n"
     ]
    }
   ],
   "source": [
    "# O jogador mais alto é italiano (cm).\n",
    "jogador_mais_alto = tb[tb['cm'] == tb['cm'].max()]\n",
    "print(jogador_mais_alto['country'].iloc[0] == 'Italy')"
   ]
  },
  {
   "cell_type": "code",
   "execution_count": 17,
   "metadata": {},
   "outputs": [
    {
     "name": "stdout",
     "output_type": "stream",
     "text": [
      "True\n"
     ]
    }
   ],
   "source": [
    "# Mais de 70 jogadores tem valores ausentes para altura (cm) e peso (kg).\n",
    "faltam_altura_peso = tb[tb['cm'].isnull() & tb['kg'].isnull()]\n",
    "print(len(faltam_altura_peso) > 70)"
   ]
  },
  {
   "cell_type": "code",
   "execution_count": 18,
   "metadata": {},
   "outputs": [
    {
     "name": "stdout",
     "output_type": "stream",
     "text": [
      "False\n"
     ]
    }
   ],
   "source": [
    "# Mais de 1200 jogadores tem peso entre 60 e 80 kg (kg).\n",
    "peso_entre_60_80 = tb[(tb['kg'] >= 60) & (tb['kg'] <= 80)]\n",
    "print(len(peso_entre_60_80) >= 1200)"
   ]
  },
  {
   "cell_type": "code",
   "execution_count": 19,
   "metadata": {},
   "outputs": [
    {
     "name": "stdout",
     "output_type": "stream",
     "text": [
      "True\n"
     ]
    }
   ],
   "source": [
    "# O time Lazio tem mais jogadores que o Valencia (team).\n",
    "time_contagem = tb['team'].value_counts()\n",
    "print(time_contagem['Lazio'] > time_contagem['Valencia'])"
   ]
  }
 ],
 "metadata": {
  "kernelspec": {
   "display_name": "Python 3",
   "language": "python",
   "name": "python3"
  },
  "language_info": {
   "codemirror_mode": {
    "name": "ipython",
    "version": 3
   },
   "file_extension": ".py",
   "mimetype": "text/x-python",
   "name": "python",
   "nbconvert_exporter": "python",
   "pygments_lexer": "ipython3",
   "version": "3.11.4"
  }
 },
 "nbformat": 4,
 "nbformat_minor": 2
}
